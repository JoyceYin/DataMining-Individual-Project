{
 "cells": [
  {
   "cell_type": "markdown",
   "metadata": {},
   "source": [
    "## Classification models based on Dataset"
   ]
  },
  {
   "cell_type": "markdown",
   "metadata": {},
   "source": [
    "In this project, several classification models included Decision Tree, KNN, Naive Bayes, Perceptron and SVM will be shown. You can use these models to predict the test data based on trained dataset. You can use Jupyter notebook, Pycharm or Spyder to run. In order to use these models easily, here the brief guideline is shown."
   ]
  },
  {
   "cell_type": "markdown",
   "metadata": {},
   "source": [
    "### Prerequisites"
   ]
  },
  {
   "cell_type": "markdown",
   "metadata": {},
   "source": [
    "***Dataset.xlsx*** is under **the same directory** as the models\n",
    "<br>\n",
    "***numpy, pandas libraries*** are needed\n",
    "<br>\n",
    "***sklearn library*** should be prepared\n",
    "<br>\n",
    "- <font size=4>Install scikit-learn using ``conda install -c anaconda scikit-learn ``</font>"
   ]
  },
  {
   "cell_type": "markdown",
   "metadata": {},
   "source": [
    "### Imported libraries"
   ]
  },
  {
   "cell_type": "markdown",
   "metadata": {},
   "source": [
    "To run each model, make sure the following libraries are imported."
   ]
  },
  {
   "cell_type": "markdown",
   "metadata": {},
   "source": [
    "-<font size=5> ``import pandas as pd``</font>\n",
    "<br><br>\n",
    "-<font size=5> ``import numpy as np``</font>\n",
    "<br><br>\n",
    "-<font size=5> ``from sklearn.svm import SVC`` </font>\n",
    "<br><br>\n",
    "-<font size=5> ``from sklearn.model_selection import train_test_split`` </font>\n",
    "<br><br>\n",
    "-<font size=5> ``from sklearn import metrics``</font>\n",
    "<br><br>\n",
    "-<font size=5> ``from sklearn.metrics import confusion_matrix``</font>\n",
    "<br><br>\n",
    "-<font size=5> ``from matplotlib import pyplot as plt``</font>"
   ]
  },
  {
   "cell_type": "markdown",
   "metadata": {},
   "source": [
    "### Imported dataset"
   ]
  },
  {
   "cell_type": "markdown",
   "metadata": {},
   "source": [
    "-<font size=5> ``excel = \"Dataset.xlsx\"``</font>"
   ]
  },
  {
   "cell_type": "markdown",
   "metadata": {},
   "source": [
    "### Run the model"
   ]
  },
  {
   "cell_type": "markdown",
   "metadata": {},
   "source": [
    "You can run the model in section <font size=5>``Test model here!!``</font>, then you can create model in <font size=5>``Train model here!``</font> and get the predicted data in <font size=5>``Use model here!``</font>"
   ]
  },
  {
   "cell_type": "markdown",
   "metadata": {},
   "source": [
    "It is **not necessray** to run <font size=5>``interpretation``</font> section.\n",
    "<br>\n",
    "This section is for illustration!"
   ]
  },
  {
   "cell_type": "markdown",
   "metadata": {},
   "source": [
    "### Import the predicted value"
   ]
  },
  {
   "cell_type": "markdown",
   "metadata": {},
   "source": [
    "Since Decision Tree has the best performance among these classification model, we store its predicted value as final result, which save in an copy file <font size=5>``Dataset_finalresult.xlsx``</font>\n",
    "<br><br>\n",
    "<font size=5>``Dataset.xlsx``</font> is to test and find the model"
   ]
  }
 ],
 "metadata": {
  "kernelspec": {
   "display_name": "Python 3",
   "language": "python",
   "name": "python3"
  },
  "language_info": {
   "codemirror_mode": {
    "name": "ipython",
    "version": 3
   },
   "file_extension": ".py",
   "mimetype": "text/x-python",
   "name": "python",
   "nbconvert_exporter": "python",
   "pygments_lexer": "ipython3",
   "version": "3.7.6"
  }
 },
 "nbformat": 4,
 "nbformat_minor": 4
}
