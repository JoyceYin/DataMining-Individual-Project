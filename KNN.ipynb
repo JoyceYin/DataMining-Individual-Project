{
 "cells": [
  {
   "cell_type": "markdown",
   "metadata": {},
   "source": [
    "### ***KKN (K-Nearest-Neighbors Classification)***"
   ]
  },
  {
   "cell_type": "code",
   "execution_count": 30,
   "metadata": {},
   "outputs": [],
   "source": [
    "import numpy as np\n",
    "import pandas as pd\n",
    "from sklearn.model_selection import train_test_split # Import train_test_split function\n",
    "from sklearn import metrics #Import scikit-learn metrics module for accuracy calculation\n",
    "from sklearn.metrics import confusion_matrix\n",
    "import matplotlib.pyplot as plt\n",
    "excel = \"Dataset.xlsx\""
   ]
  },
  {
   "cell_type": "markdown",
   "metadata": {},
   "source": [
    "# *Test KNN model here!!*"
   ]
  },
  {
   "cell_type": "code",
   "execution_count": 26,
   "metadata": {},
   "outputs": [],
   "source": [
    "def importdata(excel):\n",
    "    #import attribute\n",
    "    x = pd.read_excel(excel, index_col=None, header=1)\n",
    "    x = x.iloc[:, 0:9]\n",
    "    x = np.array(x)\n",
    "    #import class\n",
    "    y = pd.read_excel(excel, index_col=None, header=1)\n",
    "    y = y.iloc[:, 9]\n",
    "    y = np.array(y)\n",
    "    return x, y\n",
    "\n",
    "def importtest(excel):\n",
    "    testset = pd.read_excel(excel, sheet_name=1, header=1, index_col=None)\n",
    "    testset = testset.iloc[:, 0:9]\n",
    "    test = np.array(testset)\n",
    "    test = test.tolist()\n",
    "    return test\n",
    "\n",
    "def splitting(x, y, sp):\n",
    "    x_train, x_test, y_train, y_test = train_test_split(x, y, test_size=sp, random_state=2)\n",
    "    x_train = x_train.tolist()\n",
    "    y_train = y_train.tolist()\n",
    "    x_test = x_test.tolist()\n",
    "    return x_train, x_test, y_train, y_test\n",
    "\n",
    "def distance(predict,data):\n",
    "    euclidean_sum = 0\n",
    "    for d in range(0, len(predict)):\n",
    "        dist = (abs(predict[d] - data[d]))**2\n",
    "        euclidean_sum += dist           \n",
    "    euclidean = np.sqrt(euclidean_sum)\n",
    "    return euclidean\n",
    "\n",
    "def find_neighbours(predict, x, y, k):\n",
    "    neighbors = []\n",
    "    classes = []\n",
    "    p = []\n",
    "    for i in range(0,k):\n",
    "        #find the smallest value and its location\n",
    "        smallest = None\n",
    "        posi = None\n",
    "        for d in range(0, len(x)):\n",
    "            observe = x[d]\n",
    "            dist = distance(predict, observe)\n",
    "            if smallest == None or smallest > dist:\n",
    "                smallest = dist\n",
    "                posi = d\n",
    "        p.append(posi)\n",
    "        #append the satisfies smallest tuples and its classes into neighbor list\n",
    "        neighbors.append(x[posi])\n",
    "        classes.append(y[posi])\n",
    "        #then remove the appended tuple\n",
    "        x.remove(x[posi])\n",
    "        y.remove(y[posi])\n",
    "    return classes\n",
    "\n",
    "def KNNmodel(excel, k, sp):\n",
    "    final = []\n",
    "    x, y = importdata(excel)\n",
    "    x_train, x_test, y_train, y_test = splitting(x, y, sp)\n",
    "    for i in range(0,len(x_test)):\n",
    "        predict = x_test[i] #predicted point\n",
    "        classes = find_neighbours(predict, x_train, y_train, k)\n",
    "        result = max(classes, key=classes.count) #find the majority\n",
    "        final.append(result)\n",
    "        #reload the dataset using for the next point\n",
    "        x_train, x_test, y_train, y_test = splitting(x, y, sp)\n",
    "    return final, y_test\n",
    "\n",
    "#for testset\n",
    "def KNNmodel_test(excel, k, sp):\n",
    "    final = []\n",
    "    x, y = importdata(excel)\n",
    "    test = importtest(excel)\n",
    "    x_train, x_test, y_train, y_test = splitting(x, y, sp)\n",
    "    for i in range(0,len(test)):\n",
    "        predict = test[i] #predicted point\n",
    "        classes = find_neighbours(predict, x_train, y_train, k) #find the neighbors among the training set\n",
    "        result = max(classes, key=classes.count) #find the majority\n",
    "        final.append(result)\n",
    "        #reload the dataset using for the next point\n",
    "        x_train, x_test, y_train, y_test = splitting(x, y, sp)\n",
    "    return final"
   ]
  },
  {
   "cell_type": "markdown",
   "metadata": {},
   "source": [
    "#### Train model here!"
   ]
  },
  {
   "cell_type": "code",
   "execution_count": 23,
   "metadata": {},
   "outputs": [
    {
     "data": {
      "text/plain": [
       "0.8776595744680851"
      ]
     },
     "execution_count": 23,
     "metadata": {},
     "output_type": "execute_result"
    }
   ],
   "source": [
    "#Train model\n",
    "# the optimal k value is 3 and splitting cut is 0.15\n",
    "y_pred, y_test = KNNmodel(excel, 3, 0.15)\n",
    "metrics.accuracy_score(y_pred, y_test)"
   ]
  },
  {
   "cell_type": "markdown",
   "metadata": {},
   "source": [
    "#### Use model here!"
   ]
  },
  {
   "cell_type": "code",
   "execution_count": 29,
   "metadata": {},
   "outputs": [
    {
     "data": {
      "text/plain": [
       "100"
      ]
     },
     "execution_count": 29,
     "metadata": {},
     "output_type": "execute_result"
    }
   ],
   "source": [
    "final = KNNmodel_test(excel, 3, 0.15)\n",
    "len(final)"
   ]
  },
  {
   "cell_type": "markdown",
   "metadata": {},
   "source": [
    "# *Interpretation (Do NOT RUN) !!*"
   ]
  },
  {
   "cell_type": "markdown",
   "metadata": {},
   "source": [
    "### **import training set**"
   ]
  },
  {
   "cell_type": "code",
   "execution_count": 24,
   "metadata": {},
   "outputs": [],
   "source": [
    "def importdata(excel):\n",
    "    #import attribute\n",
    "    x = pd.read_excel(excel, index_col=None, header=1)\n",
    "    x = x.iloc[:, 0:9]\n",
    "    x = np.array(x)\n",
    "    #import class\n",
    "    y = pd.read_excel(excel, index_col=None, header=1)\n",
    "    y = y.iloc[:, 9]\n",
    "    y = np.array(y)\n",
    "    return x, y"
   ]
  },
  {
   "cell_type": "markdown",
   "metadata": {},
   "source": [
    "### import test set"
   ]
  },
  {
   "cell_type": "code",
   "execution_count": 25,
   "metadata": {},
   "outputs": [],
   "source": [
    "def importtest(excel):\n",
    "    testset = pd.read_excel(excel, sheet_name=1, header=1, index_col=None)\n",
    "    testset = testset.iloc[:, 0:9]\n",
    "    test = np.array(testset)\n",
    "    test = test.tolist()\n",
    "    return test"
   ]
  },
  {
   "cell_type": "markdown",
   "metadata": {},
   "source": [
    "### Do splitting"
   ]
  },
  {
   "cell_type": "code",
   "execution_count": 20,
   "metadata": {},
   "outputs": [],
   "source": [
    "def splitting(x, y, sp):\n",
    "    x_train, x_test, y_train, y_test = train_test_split(x, y, test_size=sp, random_state=2)\n",
    "    x_train = x_train.tolist()\n",
    "    y_train = y_train.tolist()\n",
    "    x_test = x_test.tolist()\n",
    "    return x_train, x_test, y_train, y_test\n",
    "x_train, x_test, y_train, y_test = splitting(x, y, 0.15)"
   ]
  },
  {
   "cell_type": "markdown",
   "metadata": {},
   "source": [
    "### **distance calculation**"
   ]
  },
  {
   "cell_type": "code",
   "execution_count": 4,
   "metadata": {},
   "outputs": [],
   "source": [
    "def distance(predict,data):\n",
    "    euclidean_sum = 0\n",
    "    for d in range(0, len(predict)):\n",
    "        dist = (abs(predict[d] - data[d]))**2\n",
    "        euclidean_sum += dist           \n",
    "    euclidean = np.sqrt(euclidean_sum)\n",
    "    return euclidean"
   ]
  },
  {
   "cell_type": "markdown",
   "metadata": {},
   "source": [
    "### **Find Neighbour of the point**"
   ]
  },
  {
   "cell_type": "code",
   "execution_count": 5,
   "metadata": {},
   "outputs": [],
   "source": [
    "def find_neighbours(predict, x, y, k):\n",
    "    neighbors = []\n",
    "    classes = []\n",
    "    p = []\n",
    "    for i in range(0,k):\n",
    "        #find the smallest value and its location\n",
    "        smallest = None\n",
    "        posi = None\n",
    "        for d in range(0, len(x)):\n",
    "            observe = x[d]\n",
    "            dist = distance(predict, observe)\n",
    "            if smallest == None or smallest > dist:\n",
    "                smallest = dist\n",
    "                posi = d\n",
    "        p.append(posi)\n",
    "        #append the satisfies smallest tuples and its classes into neighbor list\n",
    "        neighbors.append(x[posi])\n",
    "        classes.append(y[posi])\n",
    "        #then remove the appended tuple\n",
    "        x.remove(x[posi])\n",
    "        y.remove(y[posi])\n",
    "    return classes"
   ]
  },
  {
   "cell_type": "markdown",
   "metadata": {},
   "source": [
    "### **For group of test data, KNN test**"
   ]
  },
  {
   "cell_type": "code",
   "execution_count": 9,
   "metadata": {},
   "outputs": [],
   "source": [
    "def KNNmodel(excel, k, sp):\n",
    "    final = []\n",
    "    x, y = importdata(excel)\n",
    "    x_train, x_test, y_train, y_test = splitting(x, y, sp)\n",
    "    for i in range(0,len(x_test)):\n",
    "        predict = x_test[i] #predicted point\n",
    "        classes = find_neighbours(predict, x_train, y_train, k)\n",
    "        result = max(classes, key=classes.count) #find the majority\n",
    "        final.append(result)\n",
    "        #reload the dataset using for the next point\n",
    "        x_train, x_test, y_train, y_test = splitting(x, y, sp)\n",
    "    return final, y_test"
   ]
  },
  {
   "cell_type": "markdown",
   "metadata": {},
   "source": [
    "### ***Experiment Result***"
   ]
  },
  {
   "cell_type": "markdown",
   "metadata": {},
   "source": [
    "**Choose the optimal splitting cut**"
   ]
  },
  {
   "cell_type": "code",
   "execution_count": 12,
   "metadata": {},
   "outputs": [
    {
     "data": {
      "text/plain": [
       "[<matplotlib.lines.Line2D at 0x29b01140048>]"
      ]
     },
     "execution_count": 12,
     "metadata": {},
     "output_type": "execute_result"
    },
    {
     "data": {
      "image/png": "[encoded data removed]",
      "text/plain": [
       "<Figure size 432x288 with 1 Axes>"
      ]
     },
     "metadata": {
      "needs_background": "light"
     },
     "output_type": "display_data"
    }
   ],
   "source": [
    "from matplotlib import pyplot as plt\n",
    "x_p = []\n",
    "y_pred = []\n",
    "for i in np.arange(0.1, 0.4, 0.05):\n",
    "    pred, y_test= KNNmodel(excel, 3, i)\n",
    "    p = metrics.accuracy_score(y_test, pred)\n",
    "    y_pred.append(p)\n",
    "    x_p.append(i)\n",
    "plt.plot(x_p, y_pred)"
   ]
  },
  {
   "cell_type": "markdown",
   "metadata": {},
   "source": [
    "**Choose the optimal k value**"
   ]
  },
  {
   "cell_type": "code",
   "execution_count": 133,
   "metadata": {},
   "outputs": [
    {
     "name": "stdout",
     "output_type": "stream",
     "text": [
      "3\n",
      "4\n",
      "5\n",
      "6\n",
      "7\n",
      "8\n",
      "9\n",
      "10\n",
      "11\n",
      "12\n",
      "13\n",
      "14\n"
     ]
    },
    {
     "data": {
      "text/plain": [
       "[<matplotlib.lines.Line2D at 0x1e6efb17908>]"
      ]
     },
     "execution_count": 133,
     "metadata": {},
     "output_type": "execute_result"
    },
    {
     "data": {
      "image/png": "[encoded data removed]",
      "text/plain": [
       "<Figure size 432x288 with 1 Axes>"
      ]
     },
     "metadata": {
      "needs_background": "light"
     },
     "output_type": "display_data"
    }
   ],
   "source": [
    "from matplotlib import pyplot as plt\n",
    "x_p = []\n",
    "y_pred = []\n",
    "for k in range(3, 15):\n",
    "    pred, y_test= KNNmodel(excel, k, 0.25)\n",
    "    p = metrics.accuracy_score(y_test, pred)\n",
    "    x_p.append(k)\n",
    "    y_pred.append(p)\n",
    "plt.plot(x_p, y_pred)"
   ]
  },
  {
   "cell_type": "markdown",
   "metadata": {},
   "source": [
    "### ***Accuracy***"
   ]
  },
  {
   "cell_type": "code",
   "execution_count": 15,
   "metadata": {},
   "outputs": [
    {
     "name": "stdout",
     "output_type": "stream",
     "text": [
      "Accuracy: 0.8776595744680851\n",
      "[[86  1 11]\n",
      " [ 1 12  3]\n",
      " [ 6  1 67]]\n",
      "Precision:  0.8776595744680851\n",
      "Recall:  0.8776595744680851\n",
      "F1-Score:  0.8776595744680851\n"
     ]
    }
   ],
   "source": [
    "y_pred, y_test = KNNmodel(excel, 3, 0.15)\n",
    "print(\"Accuracy:\", metrics.accuracy_score(y_test, y_pred))\n",
    "scores1 = metrics.precision_recall_fscore_support(y_test, y_pred, average='micro')\n",
    "print(confusion_matrix(y_test,y_pred))\n",
    "print(\"Precision: \", scores1[0])\n",
    "print(\"Recall: \" , scores1[1])\n",
    "print(\"F1-Score: \" ,scores1[2])"
   ]
  },
  {
   "cell_type": "code",
   "execution_count": 14,
   "metadata": {
    "scrolled": true
   },
   "outputs": [
    {
     "name": "stdout",
     "output_type": "stream",
     "text": [
      "Accuracy: 0.8776595744680851\n",
      "[[86  1 11]\n",
      " [ 1 12  3]\n",
      " [ 6  1 67]]\n",
      "Precision:  0.8696781779219055\n",
      "Recall:  0.8443188086045228\n",
      "F1-Score:  0.8550132297472274\n"
     ]
    }
   ],
   "source": [
    "y_pred, y_test = KNNmodel(excel, 3, 0.15)\n",
    "print(\"Accuracy:\", metrics.accuracy_score(y_test, y_pred))\n",
    "scores1 = metrics.precision_recall_fscore_support(y_test, y_pred, average='macro')\n",
    "print(confusion_matrix(y_test,y_pred))\n",
    "print(\"Precision: \", scores1[0])\n",
    "print(\"Recall: \" , scores1[1])\n",
    "print(\"F1-Score: \" ,scores1[2])"
   ]
  }
 ],
 "metadata": {
  "kernelspec": {
   "display_name": "Python 3",
   "language": "python",
   "name": "python3"
  },
  "language_info": {
   "codemirror_mode": {
    "name": "ipython",
    "version": 3
   },
   "file_extension": ".py",
   "mimetype": "text/x-python",
   "name": "python",
   "nbconvert_exporter": "python",
   "pygments_lexer": "ipython3",
   "version": "3.7.6"
  }
 },
 "nbformat": 4,
 "nbformat_minor": 4
}
