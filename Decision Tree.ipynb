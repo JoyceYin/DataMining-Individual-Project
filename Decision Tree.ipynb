{
 "cells": [
  {
   "cell_type": "markdown",
   "metadata": {},
   "source": [
    "### ***Decision Tree***"
   ]
  },
  {
   "cell_type": "code",
   "execution_count": 70,
   "metadata": {},
   "outputs": [],
   "source": [
    "import pandas as pd\n",
    "import numpy as np\n",
    "from sklearn.tree import DecisionTreeClassifier # Import Decision Tree Classifier\n",
    "from sklearn.model_selection import train_test_split # Import train_test_split function\n",
    "from sklearn import metrics #Import scikit-learn metrics module for accuracy calculation\n",
    "from sklearn.metrics import confusion_matrix\n",
    "from matplotlib import pyplot as plt\n",
    "excel = \"Dataset.xlsx\""
   ]
  },
  {
   "cell_type": "markdown",
   "metadata": {},
   "source": [
    "# *Test Decision Tree model here!!*"
   ]
  },
  {
   "cell_type": "code",
   "execution_count": 71,
   "metadata": {},
   "outputs": [],
   "source": [
    "def importdata(excel):\n",
    "    #import attribute\n",
    "    data = pd.read_excel(excel, index_col=None, header=1)\n",
    "    x = data.iloc[:, 0:9]\n",
    "    x = np.array(x)\n",
    "    #import class\n",
    "    y = data.iloc[:, 9]\n",
    "    y = np.array(y)\n",
    "    return x, y\n",
    "\n",
    "def importtest(excel):\n",
    "    test = pd.read_excel(excel, sheet_name=1, header=1, index_col=None)\n",
    "    test = test.iloc[:, 0:9]\n",
    "    test = np.array(test)\n",
    "    return test\n",
    "\n",
    "def DecisionTree(excel, i, depth):\n",
    "    x, y = importdata(excel)\n",
    "    x_train, x_test, y_train, y_test = train_test_split(x, y, test_size=i, random_state=2)\n",
    "    clf = DecisionTreeClassifier(criterion=\"entropy\", max_depth=depth)\n",
    "    clf = clf.fit(x_train,y_train)\n",
    "    pred = clf.predict(x_test)\n",
    "    return pred, y_test\n",
    "\n",
    "def DecisionTree_test(excel, i, depth):\n",
    "    x, y = importdata(excel)\n",
    "    test = importtest(excel)\n",
    "    x_train, x_test, y_train, y_test = train_test_split(x, y, test_size=i, random_state=2)\n",
    "    clf = DecisionTreeClassifier(criterion=\"entropy\", max_depth=depth)\n",
    "    clf = clf.fit(x_train,y_train)\n",
    "    pred = clf.predict(test)\n",
    "    return pred"
   ]
  },
  {
   "cell_type": "markdown",
   "metadata": {},
   "source": [
    "#### Train model here!"
   ]
  },
  {
   "cell_type": "code",
   "execution_count": 72,
   "metadata": {},
   "outputs": [
    {
     "data": {
      "text/plain": [
       "0.9442231075697212"
      ]
     },
     "execution_count": 72,
     "metadata": {},
     "output_type": "execute_result"
    }
   ],
   "source": [
    "y_pred, y_test = DecisionTree(excel, 0.2, 7)\n",
    "metrics.accuracy_score(y_test, y_pred)"
   ]
  },
  {
   "cell_type": "markdown",
   "metadata": {},
   "source": [
    "#### Use model here!"
   ]
  },
  {
   "cell_type": "code",
   "execution_count": 77,
   "metadata": {},
   "outputs": [
    {
     "data": {
      "text/plain": [
       "100"
      ]
     },
     "execution_count": 77,
     "metadata": {},
     "output_type": "execute_result"
    }
   ],
   "source": [
    "pred = DecisionTree_test(excel, 0.2, 7)\n",
    "len(pred)"
   ]
  },
  {
   "cell_type": "markdown",
   "metadata": {},
   "source": [
    "#### put optimal predicted value into testing set (DO NOT RUN)"
   ]
  },
  {
   "cell_type": "code",
   "execution_count": 97,
   "metadata": {},
   "outputs": [],
   "source": [
    "excel=\"Dataset.xlsx\"\n",
    "from openpyxl import load_workbook\n",
    "book = load_workbook(excel)\n",
    "sheet = book['test']\n",
    "for i in range(0, len(pred)):\n",
    "    sheet.cell(row=i+3, column=10, value=pred[i])\n",
    "book.save(\"Dataset_finalresult.xlsx\")"
   ]
  },
  {
   "cell_type": "markdown",
   "metadata": {},
   "source": [
    "# *Interpretation (Do NOT RUN) !!*"
   ]
  },
  {
   "cell_type": "markdown",
   "metadata": {},
   "source": [
    "### Import training set"
   ]
  },
  {
   "cell_type": "code",
   "execution_count": 2,
   "metadata": {},
   "outputs": [],
   "source": [
    "def importdata(excel):\n",
    "    #import attribute\n",
    "    data = pd.read_excel(excel, index_col=None, header=1)\n",
    "    x = data.iloc[:, 0:9]\n",
    "    x = np.array(x)\n",
    "    #import class\n",
    "    y = data.iloc[:, 9]\n",
    "    y = np.array(y)\n",
    "    return x, y"
   ]
  },
  {
   "cell_type": "markdown",
   "metadata": {},
   "source": [
    "### Import testing set"
   ]
  },
  {
   "cell_type": "code",
   "execution_count": 10,
   "metadata": {},
   "outputs": [],
   "source": [
    "def importtest(excel):\n",
    "    test = pd.read_excel(excel, sheet_name=1, header=1, index_col=None)\n",
    "    test = test.iloc[:, 0:9]\n",
    "    test = np.array(test)\n",
    "    return test"
   ]
  },
  {
   "cell_type": "markdown",
   "metadata": {},
   "source": [
    "### Dividing dataset"
   ]
  },
  {
   "cell_type": "code",
   "execution_count": 12,
   "metadata": {},
   "outputs": [],
   "source": [
    "x_train, x_test, y_train, y_test = train_test_split(x, y, test_size=0.2, random_state=2)"
   ]
  },
  {
   "cell_type": "markdown",
   "metadata": {},
   "source": [
    "### Create a decision Tree model"
   ]
  },
  {
   "cell_type": "code",
   "execution_count": 14,
   "metadata": {},
   "outputs": [],
   "source": [
    "# Create Decision Tree classifer object\n",
    "clf = DecisionTreeClassifier()\n",
    "\n",
    "# Train Decision Tree Classifer\n",
    "clf = clf.fit(x_train,y_train)\n",
    "\n",
    "#Predict the response for test dataset\n",
    "y_pred = clf.predict(x_test)"
   ]
  },
  {
   "cell_type": "markdown",
   "metadata": {},
   "source": [
    "### ***Experiment Result***"
   ]
  },
  {
   "cell_type": "markdown",
   "metadata": {},
   "source": [
    "**choose the optimal maximum depth**"
   ]
  },
  {
   "cell_type": "code",
   "execution_count": 17,
   "metadata": {},
   "outputs": [],
   "source": [
    "def DecisionTree(excel, i, depth):\n",
    "    x_val, y_val = importdata(excel)\n",
    "    #test = importtest(excel)\n",
    "    x_train, x_test, y_train, y_test = train_test_split(x, y, test_size=i, random_state=2)\n",
    "    clf = DecisionTreeClassifier(criterion=\"entropy\", max_depth=depth)\n",
    "    clf = clf.fit(x_train,y_train)\n",
    "    pred = clf.predict(x_test)\n",
    "    return pred, y_test"
   ]
  },
  {
   "cell_type": "code",
   "execution_count": 18,
   "metadata": {},
   "outputs": [
    {
     "data": {
      "text/plain": [
       "[<matplotlib.lines.Line2D at 0x2ae20e9f448>]"
      ]
     },
     "execution_count": 18,
     "metadata": {},
     "output_type": "execute_result"
    },
    {
     "data": {
      "image/png": "[encoded data removed]",
      "text/plain": [
       "<Figure size 432x288 with 1 Axes>"
      ]
     },
     "metadata": {
      "needs_background": "light"
     },
     "output_type": "display_data"
    }
   ],
   "source": [
    "accu = []\n",
    "horz = []\n",
    "for i in range(1,21):\n",
    "    pred, y_test = DecisionTree(excel, 0.2, i)\n",
    "    ac = metrics.accuracy_score(y_test, pred)\n",
    "    accu.append(ac)\n",
    "    horz.append(i)\n",
    "plt.plot(horz, accu)\n",
    "#when max_depth=7, the classifier is the most accurate and stable."
   ]
  },
  {
   "cell_type": "markdown",
   "metadata": {},
   "source": [
    "**best splitting point**"
   ]
  },
  {
   "cell_type": "code",
   "execution_count": 29,
   "metadata": {},
   "outputs": [
    {
     "data": {
      "text/html": [
       "<div>\n",
       "<style scoped>\n",
       "    .dataframe tbody tr th:only-of-type {\n",
       "        vertical-align: middle;\n",
       "    }\n",
       "\n",
       "    .dataframe tbody tr th {\n",
       "        vertical-align: top;\n",
       "    }\n",
       "\n",
       "    .dataframe thead th {\n",
       "        text-align: right;\n",
       "    }\n",
       "</style>\n",
       "<table border=\"1\" class=\"dataframe\">\n",
       "  <thead>\n",
       "    <tr style=\"text-align: right;\">\n",
       "      <th></th>\n",
       "      <th>splitting</th>\n",
       "      <th>accuracy</th>\n",
       "    </tr>\n",
       "  </thead>\n",
       "  <tbody>\n",
       "    <tr>\n",
       "      <th>0</th>\n",
       "      <td>0.10</td>\n",
       "      <td>0.920635</td>\n",
       "    </tr>\n",
       "    <tr>\n",
       "      <th>1</th>\n",
       "      <td>0.15</td>\n",
       "      <td>0.936170</td>\n",
       "    </tr>\n",
       "    <tr>\n",
       "      <th>2</th>\n",
       "      <td>0.20</td>\n",
       "      <td>0.944223</td>\n",
       "    </tr>\n",
       "    <tr>\n",
       "      <th>3</th>\n",
       "      <td>0.25</td>\n",
       "      <td>0.917197</td>\n",
       "    </tr>\n",
       "    <tr>\n",
       "      <th>4</th>\n",
       "      <td>0.30</td>\n",
       "      <td>0.901596</td>\n",
       "    </tr>\n",
       "    <tr>\n",
       "      <th>5</th>\n",
       "      <td>0.35</td>\n",
       "      <td>0.906606</td>\n",
       "    </tr>\n",
       "    <tr>\n",
       "      <th>6</th>\n",
       "      <td>0.40</td>\n",
       "      <td>0.862550</td>\n",
       "    </tr>\n",
       "  </tbody>\n",
       "</table>\n",
       "</div>"
      ],
      "text/plain": [
       "   splitting  accuracy\n",
       "0       0.10  0.920635\n",
       "1       0.15  0.936170\n",
       "2       0.20  0.944223\n",
       "3       0.25  0.917197\n",
       "4       0.30  0.901596\n",
       "5       0.35  0.906606\n",
       "6       0.40  0.862550"
      ]
     },
     "execution_count": 29,
     "metadata": {},
     "output_type": "execute_result"
    },
    {
     "data": {
      "image/png": "[encoded data removed]",
      "text/plain": [
       "<Figure size 432x288 with 1 Axes>"
      ]
     },
     "metadata": {
      "needs_background": "light"
     },
     "output_type": "display_data"
    }
   ],
   "source": [
    "accu = []\n",
    "horz = []\n",
    "for sp in np.arange(0.1, 0.4, 0.05):\n",
    "    pred, y_test = DecisionTree(excel, sp, 7)\n",
    "    ac = metrics.accuracy_score(y_test, pred)\n",
    "    accu.append(ac)\n",
    "    horz.append(sp)\n",
    "plt.plot(horz, accu, '-')  \n",
    "data = {'splitting':horz, 'accuracy':accu}\n",
    "pd.DataFrame(data, index=None)"
   ]
  },
  {
   "cell_type": "markdown",
   "metadata": {},
   "source": [
    "### ***Accuracy***"
   ]
  },
  {
   "cell_type": "code",
   "execution_count": 25,
   "metadata": {},
   "outputs": [
    {
     "name": "stdout",
     "output_type": "stream",
     "text": [
      "Accuracy: 0.9442231075697212\n",
      "[[128   1   4]\n",
      " [  1  19   0]\n",
      " [  5   3  90]]\n",
      "Precision:  0.9442231075697212\n",
      "Recall:  0.9442231075697212\n",
      "F1-Score:  0.9442231075697212\n"
     ]
    }
   ],
   "source": [
    "y_pred, y_test = DecisionTree(excel, 0.2, 7)\n",
    "print(\"Accuracy:\", metrics.accuracy_score(y_test, y_pred))\n",
    "scores1 = metrics.precision_recall_fscore_support(y_test, y_pred, average='micro')\n",
    "print(confusion_matrix(y_test,y_pred))\n",
    "print(\"Precision: \", scores1[0])\n",
    "print(\"Recall: \" , scores1[1])\n",
    "print(\"F1-Score: \" ,scores1[2])"
   ]
  },
  {
   "cell_type": "code",
   "execution_count": 24,
   "metadata": {},
   "outputs": [
    {
     "name": "stdout",
     "output_type": "stream",
     "text": [
      "Accuracy: 0.9442231075697212\n",
      "[[128   1   4]\n",
      " [  1  19   0]\n",
      " [  5   3  90]]\n",
      "Precision:  0.9129192152097975\n",
      "Recall:  0.9435911206587898\n",
      "F1-Score:  0.926674142786633\n"
     ]
    }
   ],
   "source": [
    "y_pred, y_test = DecisionTree(excel, 0.2, 7)\n",
    "print(\"Accuracy:\", metrics.accuracy_score(y_test, y_pred))\n",
    "scores1 = metrics.precision_recall_fscore_support(y_test, y_pred, average='macro')\n",
    "print(confusion_matrix(y_test,y_pred))\n",
    "print(\"Precision: \", scores1[0])\n",
    "print(\"Recall: \" , scores1[1])\n",
    "print(\"F1-Score: \" ,scores1[2])"
   ]
  }
 ],
 "metadata": {
  "kernelspec": {
   "display_name": "Python 3",
   "language": "python",
   "name": "python3"
  },
  "language_info": {
   "codemirror_mode": {
    "name": "ipython",
    "version": 3
   },
   "file_extension": ".py",
   "mimetype": "text/x-python",
   "name": "python",
   "nbconvert_exporter": "python",
   "pygments_lexer": "ipython3",
   "version": "3.7.6"
  }
 },
 "nbformat": 4,
 "nbformat_minor": 4
}
