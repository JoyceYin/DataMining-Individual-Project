{
 "cells": [
  {
   "cell_type": "markdown",
   "metadata": {},
   "source": [
    "### ***Perceptron***"
   ]
  },
  {
   "cell_type": "code",
   "execution_count": 16,
   "metadata": {},
   "outputs": [],
   "source": [
    "import pandas as pd\n",
    "import numpy as np\n",
    "from sklearn.model_selection import train_test_split # Import train_test_split function\n",
    "from sklearn import metrics #Import scikit-learn metrics module for accuracy calculation\n",
    "from sklearn.metrics import confusion_matrix\n",
    "import matplotlib.pyplot as plt\n",
    "excel = \"Dataset.xlsx\""
   ]
  },
  {
   "cell_type": "markdown",
   "metadata": {},
   "source": [
    "# *Test Perceptron model here!!*"
   ]
  },
  {
   "cell_type": "code",
   "execution_count": 2,
   "metadata": {},
   "outputs": [],
   "source": [
    "def importtrain(excel):\n",
    "    x = pd.read_excel(excel, index_col=None, header=1)\n",
    "    x['init'] = 1\n",
    "    cols = ['init', 'A', 'B', 'C', 'D', 'E', 'F', 'G', 'H', 'I','Class']\n",
    "    whole = x.reindex(columns = cols)\n",
    "    \n",
    "    x_val = whole.iloc[:, 0:10]\n",
    "    y_val = whole.iloc[:, 10]\n",
    "    return x_val, y_val, whole\n",
    "\n",
    "def importtest(excel):\n",
    "    testset = pd.read_excel(excel, sheet_name=1, header=1, index_col=None)\n",
    "    testset['init'] = 1\n",
    "    cols = ['init', 'A', 'B', 'C', 'D', 'E', 'F', 'G', 'H', 'I','Class']\n",
    "    testset = testset.reindex(columns = cols)\n",
    "    testset = testset.iloc[:,0:10]\n",
    "    return testset\n",
    "\n",
    "def dividebaseclass(data):\n",
    "    C1 = [] #store the tuples whose class is 0\n",
    "    C2 = [] #store the tuples whose class is 1\n",
    "    C3 = [] #store the tuples whose class is -1\n",
    "    for i in range(0,len(data)):\n",
    "        if data.iloc[i][10] == 0:\n",
    "            C1.append(data.iloc[i].tolist())\n",
    "        elif data.iloc[i][10] == 1:\n",
    "            C2.append(data.iloc[i].tolist())\n",
    "        elif data.iloc[i][10] == -1:\n",
    "            C3.append(data.iloc[i].tolist())\n",
    "    return C1, C2, C3\n",
    "\n",
    "def combined_split(A,B,C,train_data):\n",
    "    a = A[0][10] #the class value in A\n",
    "    b = B[0][10] #the class value in B\n",
    "    c = C[0][10] #the class value in C\n",
    "    d = [a, b, c]\n",
    "    x = []\n",
    "    y = []\n",
    "    for i in range(0,len(train_data)):\n",
    "        if train_data.iloc[i][10] == a: #let one class be 0\n",
    "            x.append(train_data.iloc[i][0:10].tolist())\n",
    "            y.append(0)\n",
    "        else: #another class be 1\n",
    "            x.append(train_data.iloc[i][0:10].tolist())\n",
    "            y.append(1) \n",
    "    return x, y, d\n",
    "\n",
    "def predict_output(w, tup):\n",
    "    sumval = w.dot(tup)\n",
    "    #using step function\n",
    "    if sumval >= 0:\n",
    "        predO = 1\n",
    "    else:\n",
    "        predO = 0\n",
    "    return predO\n",
    "\n",
    "def adjustment(w, predO, obserT, record, alpha, num, x):\n",
    "    if obserT == predO:\n",
    "        w = w\n",
    "    else:\n",
    "        record = record + 1\n",
    "        for k in range(0, len(x[num])):\n",
    "            w[k] = w[k] + alpha*(obserT-predO)*x[num][k]\n",
    "    w_new = w\n",
    "    return w_new, record\n",
    "\n",
    "def each_iter(w, alpha, x, y):\n",
    "    record = 0 #if T is different from O, then add 1\n",
    "    for i in range(0,len(x)):\n",
    "        predO = predict_output(w, x[i])\n",
    "        obserT = y[i]\n",
    "        w, record = adjustment(w, predO, obserT, record, alpha, i, x)\n",
    "    return w, record\n",
    "\n",
    "def hyperplane(alpha, x, y, tol):\n",
    "    x = np.array(x)\n",
    "    y = np.array(y)\n",
    "    m, n = x.shape #n=10\n",
    "    w = np.zeros(n) #initial value be 0\n",
    "    itera = 1\n",
    "    w_update, record = each_iter(w, alpha, x, y)\n",
    "    while record > len(x)*tol: #lower the possibilitiies/tolerance\n",
    "        itera = itera + 1\n",
    "        w_update, record = each_iter(w_update, alpha, x, y) \n",
    "        if itera >= 10: \n",
    "            tol = tol + 0.0005\n",
    "            w_update, itera, tol = hyperplane(alpha, x, y, tol) #find the fitted tolerance \n",
    "            break\n",
    "    return w_update, itera, tol\n",
    "\n",
    "#make three hyperplane by splitting into 1:2\n",
    "def threehyper(excel, sp, alpha):\n",
    "    x, y, dataset = importtrain(excel)\n",
    "    x_train, x_test, y_train, y_test = train_test_split(x, y, test_size=sp, random_state=2)\n",
    "    train_data = dataset.iloc[x_train.index, :]\n",
    "    C1, C2, C3 = dividebaseclass(train_data)\n",
    "    w = []\n",
    "    c = []\n",
    "    x1, y1, c1 = combined_split(C1,C2,C3,train_data)\n",
    "    c.append(c1)\n",
    "    x2, y2, c2 = combined_split(C2,C1,C3,train_data)\n",
    "    c.append(c2)\n",
    "    x3, y3, c3 = combined_split(C3,C1,C2,train_data)\n",
    "    c.append(c3)\n",
    "    \n",
    "    w1, itera1, tol1 = hyperplane(alpha, x1, y1, 0)\n",
    "    w.append(w1)\n",
    "    w2, itera2, tol2 = hyperplane(alpha, x2, y2, 0)\n",
    "    w.append(w2)\n",
    "    w3, itera3, tol3 = hyperplane(alpha, x3, y3, 0)\n",
    "    w.append(w3)\n",
    "    return c, w, y_test, x_test\n",
    "\n",
    "#do voting among three hyperplane\n",
    "def voting(w, c, tup):\n",
    "    voting = []\n",
    "    for i in range(0,len(w)):\n",
    "        product = w[i].dot(tup)\n",
    "        if product < 0:\n",
    "            voting.append(c[i][0])\n",
    "        else:\n",
    "            voting.append(c[i][1])\n",
    "            voting.append(c[i][2])\n",
    "    result = max(set(voting), key=voting.count)\n",
    "    return result\n",
    "\n",
    "def PerceptronModel(excel, sp, alpha):\n",
    "    c, w, y_test, x_test = threehyper(excel, sp, alpha)\n",
    "    y_pred = []\n",
    "    for i in range(0, len(x_test)):\n",
    "        tup = x_test.iloc[i].tolist()\n",
    "        tup = np.array(tup)\n",
    "        result = voting(w, c, tup)\n",
    "        y_pred.append(result)\n",
    "    return y_pred, y_test\n",
    "\n",
    "def PerceptronModel_test(excel, sp, alpha):\n",
    "    c, w, y_test, x_test = threehyper(excel, sp, alpha)\n",
    "    test = importtest(excel)\n",
    "    y_pred = []\n",
    "    for i in range(0, len(test)):\n",
    "        tup = test.iloc[i].tolist()\n",
    "        tup = np.array(tup)\n",
    "        result = voting(w, c, tup)\n",
    "        y_pred.append(result)\n",
    "    return y_pred"
   ]
  },
  {
   "cell_type": "markdown",
   "metadata": {},
   "source": [
    "#### Train model here!"
   ]
  },
  {
   "cell_type": "code",
   "execution_count": 3,
   "metadata": {},
   "outputs": [
    {
     "data": {
      "text/plain": [
       "0.7287234042553191"
      ]
     },
     "execution_count": 3,
     "metadata": {},
     "output_type": "execute_result"
    }
   ],
   "source": [
    "y_pred, y_test = PerceptronModel(excel, 0.3, 1)\n",
    "metrics.accuracy_score(y_test, y_pred)"
   ]
  },
  {
   "cell_type": "markdown",
   "metadata": {},
   "source": [
    "#### Use model here!"
   ]
  },
  {
   "cell_type": "code",
   "execution_count": 5,
   "metadata": {},
   "outputs": [
    {
     "data": {
      "text/plain": [
       "100"
      ]
     },
     "execution_count": 5,
     "metadata": {},
     "output_type": "execute_result"
    }
   ],
   "source": [
    "final = PerceptronModel_test(excel, 0.3, 1)\n",
    "len(final)"
   ]
  },
  {
   "cell_type": "markdown",
   "metadata": {},
   "source": [
    "# *Interpretation (Do NOT RUN) !!*"
   ]
  },
  {
   "cell_type": "markdown",
   "metadata": {},
   "source": [
    "### Import training data based on classes"
   ]
  },
  {
   "cell_type": "code",
   "execution_count": 6,
   "metadata": {},
   "outputs": [],
   "source": [
    "def importtrain(excel):\n",
    "    x = pd.read_excel(excel, index_col=None, header=1)\n",
    "    x['init'] = 1\n",
    "    cols = ['init', 'A', 'B', 'C', 'D', 'E', 'F', 'G', 'H', 'I','Class']\n",
    "    whole = x.reindex(columns = cols)\n",
    "    \n",
    "    x_val = whole.iloc[:, 0:10]\n",
    "    y_val = whole.iloc[:, 10]\n",
    "    return x_val, y_val, whole"
   ]
  },
  {
   "cell_type": "markdown",
   "metadata": {},
   "source": [
    "### Dividing dataset based on classes"
   ]
  },
  {
   "cell_type": "code",
   "execution_count": 7,
   "metadata": {},
   "outputs": [],
   "source": [
    "def dividebaseclass(data):\n",
    "    C1 = [] #store the tuples whose class is 0\n",
    "    C2 = [] #store the tuples whose class is 1\n",
    "    C3 = [] #store the tuples whose class is -1\n",
    "    for i in range(0,len(data)):\n",
    "        if data.iloc[i][10] == 0:\n",
    "            C1.append(data.iloc[i].tolist())\n",
    "        elif data.iloc[i][10] == 1:\n",
    "            C2.append(data.iloc[i].tolist())\n",
    "        elif data.iloc[i][10] == -1:\n",
    "            C3.append(data.iloc[i].tolist())\n",
    "    return C1, C2, C3"
   ]
  },
  {
   "cell_type": "markdown",
   "metadata": {},
   "source": [
    "### Combining two different classes"
   ]
  },
  {
   "cell_type": "code",
   "execution_count": 8,
   "metadata": {},
   "outputs": [],
   "source": [
    "def combined_split(A,B,C,train_data):\n",
    "    a = A[0][10] #the class value in A\n",
    "    b = B[0][10] #the class value in B\n",
    "    c = C[0][10] #the class value in C\n",
    "    d = [a, b, c]\n",
    "    x = []\n",
    "    y = []\n",
    "    for i in range(0,len(train_data)):\n",
    "        if train_data.iloc[i][10] == a: #let one class be 0\n",
    "            x.append(train_data.iloc[i][0:10].tolist())\n",
    "            y.append(0)\n",
    "        else: #another class be 1\n",
    "            x.append(train_data.iloc[i][0:10].tolist())\n",
    "            y.append(1) \n",
    "    return x, y, d"
   ]
  },
  {
   "cell_type": "markdown",
   "metadata": {},
   "source": [
    "### **import testing data**"
   ]
  },
  {
   "cell_type": "code",
   "execution_count": 9,
   "metadata": {},
   "outputs": [],
   "source": [
    "def importtest(excel):\n",
    "    testset = pd.read_excel(excel, sheet_name=1, header=1, index_col=None)\n",
    "    testset['init'] = 1\n",
    "    cols = ['init', 'A', 'B', 'C', 'D', 'E', 'F', 'G', 'H', 'I','Class']\n",
    "    testset = testset.reindex(columns = cols)\n",
    "    testset = testset.iloc[:,0:10]\n",
    "    return testset"
   ]
  },
  {
   "cell_type": "markdown",
   "metadata": {},
   "source": [
    "### **Predicted Outputs**"
   ]
  },
  {
   "cell_type": "code",
   "execution_count": 10,
   "metadata": {},
   "outputs": [],
   "source": [
    "def predict_output(w, tup):\n",
    "    sumval = w.dot(tup)\n",
    "    #using step function\n",
    "    if sumval >= 0:\n",
    "        predO = 1\n",
    "    else:\n",
    "        predO = 0\n",
    "    return predO"
   ]
  },
  {
   "cell_type": "markdown",
   "metadata": {},
   "source": [
    "### **Adjustment**"
   ]
  },
  {
   "cell_type": "code",
   "execution_count": 11,
   "metadata": {},
   "outputs": [],
   "source": [
    "def adjustment(w, predO, obserT, record, alpha, num, x):\n",
    "    if obserT == predO:\n",
    "        w = w\n",
    "    else:\n",
    "        record = record + 1\n",
    "        for k in range(0, len(x[num])):\n",
    "            w[k] = w[k] + alpha*(obserT-predO)*x[num][k]\n",
    "    w_new = w\n",
    "    return w_new, record"
   ]
  },
  {
   "cell_type": "markdown",
   "metadata": {},
   "source": [
    "### **For each iteration**"
   ]
  },
  {
   "cell_type": "code",
   "execution_count": 12,
   "metadata": {},
   "outputs": [],
   "source": [
    "def each_iter(w, alpha, x, y):\n",
    "    record = 0 #if T is different from O, then add 1\n",
    "    for i in range(0,len(x)):\n",
    "        predO = predict_output(w, x[i])\n",
    "        obserT = y[i]\n",
    "        w, record = adjustment(w, predO, obserT, record, alpha, i, x)\n",
    "    return w, record"
   ]
  },
  {
   "cell_type": "markdown",
   "metadata": {},
   "source": [
    "### **Iteration (find a hyperplane)**"
   ]
  },
  {
   "cell_type": "code",
   "execution_count": 13,
   "metadata": {},
   "outputs": [],
   "source": [
    "def hyperplane(alpha, x, y, tol):\n",
    "    x = np.array(x)\n",
    "    y = np.array(y)\n",
    "    m, n = x.shape #n=10\n",
    "    w = np.zeros(n) #initial value be 0\n",
    "    itera = 1\n",
    "    w_update, record = each_iter(w, alpha, x, y)\n",
    "    while record > len(x)*tol: #lower the possibilitiies/tolerance\n",
    "        itera = itera + 1\n",
    "        w_update, record = each_iter(w_update, alpha, x, y) \n",
    "        if itera >= 10: \n",
    "            tol = tol + 0.0005\n",
    "            w_update, itera, tol = hyperplane(alpha, x, y, tol) #find the fitted tolerance \n",
    "            break\n",
    "    return w_update, itera, tol"
   ]
  },
  {
   "cell_type": "markdown",
   "metadata": {},
   "source": [
    "### **Voting**"
   ]
  },
  {
   "cell_type": "code",
   "execution_count": 14,
   "metadata": {},
   "outputs": [],
   "source": [
    "#make three hyperplane by splitting into 1:2\n",
    "def threehyper(excel, sp, alpha):\n",
    "    x, y, dataset = importtrain(excel)\n",
    "    x_train, x_test, y_train, y_test = train_test_split(x, y, test_size=sp, random_state=2)\n",
    "    train_data = dataset.iloc[x_train.index, :]\n",
    "    C1, C2, C3 = dividebaseclass(train_data)\n",
    "    w = []\n",
    "    c = []\n",
    "    x1, y1, c1 = combined_split(C1,C2,C3,train_data)\n",
    "    c.append(c1)\n",
    "    x2, y2, c2 = combined_split(C2,C1,C3,train_data)\n",
    "    c.append(c2)\n",
    "    x3, y3, c3 = combined_split(C3,C1,C2,train_data)\n",
    "    c.append(c3)\n",
    "    \n",
    "    w1, itera1, tol1 = hyperplane(alpha, x1, y1, 0)\n",
    "    w.append(w1)\n",
    "    w2, itera2, tol2 = hyperplane(alpha, x2, y2, 0)\n",
    "    w.append(w2)\n",
    "    w3, itera3, tol3 = hyperplane(alpha, x3, y3, 0)\n",
    "    w.append(w3)\n",
    "    return c, w, y_test, x_test\n",
    "\n",
    "#do voting among three hyperplane\n",
    "def voting(w, c, tup):\n",
    "    voting = []\n",
    "    for i in range(0,len(w)):\n",
    "        product = w[i].dot(tup)\n",
    "        if product < 0:\n",
    "            voting.append(c[i][0])\n",
    "        else:\n",
    "            voting.append(c[i][1])\n",
    "            voting.append(c[i][2])\n",
    "    result = max(set(voting), key=voting.count)\n",
    "    return result"
   ]
  },
  {
   "cell_type": "code",
   "execution_count": 15,
   "metadata": {},
   "outputs": [],
   "source": [
    "def PerceptronModel(excel, sp, alpha):\n",
    "    c, w, y_test, x_test = threehyper(excel, sp, alpha)\n",
    "    y_pred = []\n",
    "    for i in range(0, len(x_test)):\n",
    "        tup = x_test.iloc[i].tolist()\n",
    "        tup = np.array(tup)\n",
    "        result = voting(w, c, tup)\n",
    "        y_pred.append(result)\n",
    "    return y_pred, y_test"
   ]
  },
  {
   "cell_type": "markdown",
   "metadata": {},
   "source": [
    "### ***Experiment Result***"
   ]
  },
  {
   "cell_type": "markdown",
   "metadata": {},
   "source": [
    "**Find the best splitting point**"
   ]
  },
  {
   "cell_type": "code",
   "execution_count": 30,
   "metadata": {},
   "outputs": [
    {
     "data": {
      "text/plain": [
       "[<matplotlib.lines.Line2D at 0x2006348f708>]"
      ]
     },
     "execution_count": 30,
     "metadata": {},
     "output_type": "execute_result"
    },
    {
     "data": {
      "image/png": "[encoded data removed]",
      "text/plain": [
       "<Figure size 432x288 with 1 Axes>"
      ]
     },
     "metadata": {
      "needs_background": "light"
     },
     "output_type": "display_data"
    }
   ],
   "source": [
    "#for the whole dataset\n",
    "from matplotlib import pyplot as plt\n",
    "x_p = []\n",
    "y_p = []\n",
    "for sp in np.arange(0.1, 0.4, 0.05):\n",
    "    y_pred, y_test = PerceptronModel(excel, sp, 1)\n",
    "    p = metrics.accuracy_score(y_test, y_pred)\n",
    "    y_p.append(p)\n",
    "    x_p.append(sp)\n",
    "plt.plot(x_p, y_p)\n",
    "#when splitting by 7:3, then have the best performance"
   ]
  },
  {
   "cell_type": "markdown",
   "metadata": {},
   "source": [
    "**Find the best learning rate**"
   ]
  },
  {
   "cell_type": "code",
   "execution_count": 29,
   "metadata": {},
   "outputs": [
    {
     "data": {
      "text/plain": [
       "[<matplotlib.lines.Line2D at 0x20063460a88>]"
      ]
     },
     "execution_count": 29,
     "metadata": {},
     "output_type": "execute_result"
    },
    {
     "data": {
      "image/png": "[encoded data removed]",
      "text/plain": [
       "<Figure size 432x288 with 1 Axes>"
      ]
     },
     "metadata": {
      "needs_background": "light"
     },
     "output_type": "display_data"
    }
   ],
   "source": [
    "x_p = []\n",
    "y_p = []\n",
    "\n",
    "for lr in np.arange(0.1, 1.1, 0.1):\n",
    "    pred, y_test = PerceptronModel(excel, 0.3, lr)\n",
    "    p = metrics.accuracy_score(y_test, pred)\n",
    "    y_p.append(p)\n",
    "    x_p.append(lr)\n",
    "plt.plot(x_p, y_p)\n",
    "#when the learning rate is 0.5/1, the model has the best performance"
   ]
  },
  {
   "cell_type": "markdown",
   "metadata": {},
   "source": [
    "### ***Accuracy***"
   ]
  },
  {
   "cell_type": "code",
   "execution_count": 31,
   "metadata": {},
   "outputs": [
    {
     "name": "stdout",
     "output_type": "stream",
     "text": [
      "Accuracy: 0.7287234042553191\n",
      "[[151  21  25]\n",
      " [ 10  11   8]\n",
      " [ 15  23 112]]\n",
      "Precision:  0.7287234042553191\n",
      "Recall:  0.7287234042553191\n",
      "F1-Score:  0.728723404255319\n"
     ]
    }
   ],
   "source": [
    "y_pred, y_test = PerceptronModel(excel, 0.3, 1)\n",
    "print(\"Accuracy:\", metrics.accuracy_score(y_test, y_pred))\n",
    "scores1 = metrics.precision_recall_fscore_support(y_test, y_pred, average='micro')\n",
    "print(confusion_matrix(y_test,y_pred))\n",
    "print(\"Precision: \", scores1[0])\n",
    "print(\"Recall: \" , scores1[1])\n",
    "print(\"F1-Score: \" ,scores1[2])"
   ]
  },
  {
   "cell_type": "code",
   "execution_count": 32,
   "metadata": {},
   "outputs": [
    {
     "name": "stdout",
     "output_type": "stream",
     "text": [
      "Accuracy: 0.7287234042553191\n",
      "[[151  21  25]\n",
      " [ 10  11   8]\n",
      " [ 15  23 112]]\n",
      "Precision:  0.6101227795193312\n",
      "Recall:  0.6308248244743956\n",
      "F1-Score:  0.610292756777966\n"
     ]
    }
   ],
   "source": [
    "print(\"Accuracy:\", metrics.accuracy_score(y_test, y_pred))\n",
    "scores1 = metrics.precision_recall_fscore_support(y_test, y_pred, average='macro')\n",
    "print(confusion_matrix(y_test,y_pred))\n",
    "print(\"Precision: \", scores1[0])\n",
    "print(\"Recall: \" , scores1[1])\n",
    "print(\"F1-Score: \" ,scores1[2])"
   ]
  }
 ],
 "metadata": {
  "kernelspec": {
   "display_name": "Python 3",
   "language": "python",
   "name": "python3"
  },
  "language_info": {
   "codemirror_mode": {
    "name": "ipython",
    "version": 3
   },
   "file_extension": ".py",
   "mimetype": "text/x-python",
   "name": "python",
   "nbconvert_exporter": "python",
   "pygments_lexer": "ipython3",
   "version": "3.7.6"
  }
 },
 "nbformat": 4,
 "nbformat_minor": 4
}
