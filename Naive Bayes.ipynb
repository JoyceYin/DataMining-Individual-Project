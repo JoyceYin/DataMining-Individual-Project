{
 "cells": [
  {
   "cell_type": "markdown",
   "metadata": {},
   "source": [
    "### ***Naive Bayes***"
   ]
  },
  {
   "cell_type": "code",
   "execution_count": 7,
   "metadata": {},
   "outputs": [],
   "source": [
    "import pandas as pd\n",
    "import numpy as np\n",
    "from sklearn.model_selection import train_test_split # Import train_test_split function\n",
    "from sklearn import metrics #Import scikit-learn metrics module for accuracy calculation\n",
    "from sklearn.metrics import confusion_matrix\n",
    "from matplotlib import pyplot as plt\n",
    "excel = \"Dataset.xlsx\""
   ]
  },
  {
   "cell_type": "markdown",
   "metadata": {},
   "source": [
    "# *Test Naive Bayes model here!!*"
   ]
  },
  {
   "cell_type": "code",
   "execution_count": 3,
   "metadata": {},
   "outputs": [],
   "source": [
    "def importdata(excel):\n",
    "    #import attribute\n",
    "    x = pd.read_excel(excel, index_col=None, header=1)\n",
    "    x = x.iloc[:, 0:9]\n",
    "    x = np.array(x)\n",
    "    #import class\n",
    "    y = pd.read_excel(excel, index_col=None, header=1)\n",
    "    y = y.iloc[:, 9]\n",
    "    y = np.array(y)\n",
    "    return x, y\n",
    "\n",
    "def label(y):\n",
    "    clas = []\n",
    "    for i in range(0, len(y)):\n",
    "        num = y[i]\n",
    "        clas.append(num)\n",
    "    label = set(clas)  #sort all classes data\n",
    "    label_new = list(label)\n",
    "    return label_new\n",
    "\n",
    "#import testset\n",
    "def importtest(excel):\n",
    "    testset = pd.read_excel(excel, sheet_name=1, header=1, index_col=None)\n",
    "    testset = testset.iloc[:, 0:9]\n",
    "    test = np.array(testset)\n",
    "    return test\n",
    "\n",
    "#calculate prior probability\n",
    "def prior_prob(y, la, label_new):\n",
    "    count = 0 \n",
    "    index = []\n",
    "    for i in range(0, len(y)):\n",
    "        predict = y[i]\n",
    "        if predict == label_new[la]:\n",
    "            count = count + 1\n",
    "            index.append(i)  #record the index \n",
    "    prob = count / len(y)\n",
    "    return prob, count, index\n",
    "\n",
    "#def each class for every tuples\n",
    "def likelihood(x, point, index, count): #cls_num stands for each class\n",
    "    prob = 1 #initialize\n",
    "    for i in range(0, len(point)):\n",
    "        co = 0 #initialize\n",
    "        for d in range(0, len(index)):\n",
    "            num = index[d]\n",
    "            if x[num][i] == point[i]: #if training data have the same value with test data\n",
    "                co = co + 1\n",
    "        p = co/count #P(x=point(value)|C1)\n",
    "        prob = prob * p\n",
    "    return prob\n",
    "\n",
    "def NaiveBayes_point(x, y, label, point):\n",
    "    maxcp = 0 #initialize\n",
    "    result = 0\n",
    "    for l in range(0, len(label)):\n",
    "        prob, count, index = prior_prob(y, l, label)\n",
    "        cond = likelihood(x, point, index, count)\n",
    "        cp = prob*cond\n",
    "        if cp > maxcp: #find maximized\n",
    "            maxcp = cp\n",
    "            result = label[l] \n",
    "    return result\n",
    "\n",
    "def NaiveBayes_test(excel, i):\n",
    "    finalresult = []\n",
    "    x, y = importdata(excel)\n",
    "    x_train, x_test, y_train, y_test = train_test_split(x, y, test_size=i, random_state=2)\n",
    "    lab = label(y_train)\n",
    "    for i in range(0, len(x_test)):\n",
    "        point = x_test[i]\n",
    "        result = NaiveBayes_point(x_train, y_train, lab, point)\n",
    "        finalresult.append(result)\n",
    "    return finalresult, y_test\n",
    "\n",
    "def NaiveBayes(excel, i):\n",
    "    finalresult = []\n",
    "    x, y = importdata(excel)\n",
    "    test = importtest(excel)\n",
    "    x_train, x_test, y_train, y_test = train_test_split(x, y, test_size=i, random_state=2)\n",
    "    lab = label(y_train)\n",
    "    for i in range(0, len(test)):\n",
    "        point = test[i]\n",
    "        result = NaiveBayes_point(x_train, y_train, lab, point)\n",
    "        finalresult.append(result)\n",
    "    return finalresult"
   ]
  },
  {
   "cell_type": "markdown",
   "metadata": {},
   "source": [
    "#### Train model here!"
   ]
  },
  {
   "cell_type": "code",
   "execution_count": 4,
   "metadata": {},
   "outputs": [
    {
     "data": {
      "text/plain": [
       "0.8685258964143426"
      ]
     },
     "execution_count": 4,
     "metadata": {},
     "output_type": "execute_result"
    }
   ],
   "source": [
    "y_pred, y_test = NaiveBayes_test(excel, 0.2)\n",
    "metrics.accuracy_score(y_test, y_pred)"
   ]
  },
  {
   "cell_type": "markdown",
   "metadata": {},
   "source": [
    "#### Use model here!"
   ]
  },
  {
   "cell_type": "code",
   "execution_count": 6,
   "metadata": {},
   "outputs": [
    {
     "data": {
      "text/plain": [
       "100"
      ]
     },
     "execution_count": 6,
     "metadata": {},
     "output_type": "execute_result"
    }
   ],
   "source": [
    "pred = NaiveBayes(excel, 0.2)\n",
    "len(pred)"
   ]
  },
  {
   "cell_type": "markdown",
   "metadata": {},
   "source": [
    "# *Interpretation (Do NOT RUN) !!*"
   ]
  },
  {
   "cell_type": "markdown",
   "metadata": {},
   "source": [
    "### **import training data**"
   ]
  },
  {
   "cell_type": "code",
   "execution_count": 2,
   "metadata": {},
   "outputs": [],
   "source": [
    "def importdata(excel):\n",
    "    #import attribute\n",
    "    x = pd.read_excel(excel, index_col=None, header=1)\n",
    "    x = x.iloc[:, 0:9]\n",
    "    x = np.array(x)\n",
    "    #import class\n",
    "    y = pd.read_excel(excel, index_col=None, header=1)\n",
    "    y = y.iloc[:, 9]\n",
    "    y = np.array(y)\n",
    "    return x, y\n",
    "\n",
    "def label(y):\n",
    "    clas = []\n",
    "    for i in range(0, len(y)):\n",
    "        num = y[i]\n",
    "        clas.append(num)\n",
    "    label = set(clas)  #sort all classes data\n",
    "    label_new = list(label)\n",
    "    return label_new"
   ]
  },
  {
   "cell_type": "markdown",
   "metadata": {},
   "source": [
    "### **import testing data**"
   ]
  },
  {
   "cell_type": "code",
   "execution_count": 3,
   "metadata": {},
   "outputs": [],
   "source": [
    "#import testset\n",
    "def importtest(excel):\n",
    "    testset = pd.read_excel(excel, sheet_name=1, header=1, index_col=None)\n",
    "    testset = testset.iloc[:, 0:9]\n",
    "    test = np.array(testset)\n",
    "    return test"
   ]
  },
  {
   "cell_type": "markdown",
   "metadata": {},
   "source": [
    "### **calculate prior probability**"
   ]
  },
  {
   "cell_type": "code",
   "execution_count": 2,
   "metadata": {},
   "outputs": [],
   "source": [
    "#calculate prior probability\n",
    "def prior_prob(y, la, label_new):\n",
    "    count = 0 \n",
    "    index = []\n",
    "    for i in range(0, len(y)):\n",
    "        predict = y[i]\n",
    "        if predict == label_new[la]:\n",
    "            count = count + 1\n",
    "            index.append(i)  #record the index \n",
    "    prob = count / len(y)\n",
    "    return prob, count, index"
   ]
  },
  {
   "cell_type": "markdown",
   "metadata": {},
   "source": [
    "### **calculate P(x|C(i))**"
   ]
  },
  {
   "cell_type": "code",
   "execution_count": 5,
   "metadata": {},
   "outputs": [],
   "source": [
    "#def each class for every tuples\n",
    "def likelihood(x, point, index, count): #cls_num stands for each class\n",
    "    prob = 1 #initialize\n",
    "    for i in range(0, len(point)):\n",
    "        co = 0 #initialize\n",
    "        for d in range(0, len(index)):\n",
    "            num = index[d]\n",
    "            if x[num][i] == point[i]: #if training data have the same value with test data\n",
    "                co = co + 1\n",
    "        p = co/count #P(x=point(value)|C1)\n",
    "        prob = prob * p\n",
    "    return prob"
   ]
  },
  {
   "cell_type": "markdown",
   "metadata": {},
   "source": [
    "### **Find Maximized(for each test set tuple)**"
   ]
  },
  {
   "cell_type": "code",
   "execution_count": 6,
   "metadata": {},
   "outputs": [],
   "source": [
    "def NaiveBayes_point(x, y, label, point):\n",
    "    maxcp = 0 #initialize\n",
    "    result = 0\n",
    "    for l in range(0, len(label)):\n",
    "        prob, count, index = prior_prob(y, l, label)\n",
    "        cond = likelihood(x, point, index, count)\n",
    "        cp = prob*cond\n",
    "        if cp > maxcp: #find maximized\n",
    "            maxcp = cp\n",
    "            result = label[l] \n",
    "    return result"
   ]
  },
  {
   "cell_type": "markdown",
   "metadata": {},
   "source": [
    "### **Find Maximized(for the whole)**"
   ]
  },
  {
   "cell_type": "code",
   "execution_count": 7,
   "metadata": {},
   "outputs": [],
   "source": [
    "def NaiveBayes(x_test, x_train, y_train):\n",
    "    finalresult = []\n",
    "    lab = label(y_train)\n",
    "    for i in range(0, len(x_test)):\n",
    "        point = x_test[i]\n",
    "        result = NaiveBayes_point(x_train, y_train, lab, point)\n",
    "        finalresult.append(result)\n",
    "    return finalresult"
   ]
  },
  {
   "cell_type": "markdown",
   "metadata": {},
   "source": [
    "### ***Experiment Result***"
   ]
  },
  {
   "cell_type": "markdown",
   "metadata": {},
   "source": [
    "**Find the best splitting point**"
   ]
  },
  {
   "cell_type": "code",
   "execution_count": 9,
   "metadata": {},
   "outputs": [],
   "source": [
    "def NaiveBayes_test(i, excel):\n",
    "    finalresult = []\n",
    "    x, y = importdata(excel)\n",
    "    x_train, x_test, y_train, y_test = train_test_split(x, y, test_size=i, random_state=2)\n",
    "    lab = label(y_train)\n",
    "    for i in range(0, len(x_test)):\n",
    "        point = x_test[i]\n",
    "        result = NaiveBayes_point(x_train, y_train, lab, point)\n",
    "        finalresult.append(result)\n",
    "    return finalresult, y_test"
   ]
  },
  {
   "cell_type": "code",
   "execution_count": 143,
   "metadata": {},
   "outputs": [
    {
     "data": {
      "text/plain": [
       "[<matplotlib.lines.Line2D at 0x2cda06d2a48>]"
      ]
     },
     "execution_count": 143,
     "metadata": {},
     "output_type": "execute_result"
    },
    {
     "data": {
      "image/png": "[encoded data removed]",
      "text/plain": [
       "<Figure size 432x288 with 1 Axes>"
      ]
     },
     "metadata": {
      "needs_background": "light"
     },
     "output_type": "display_data"
    }
   ],
   "source": [
    "x_p = []\n",
    "y_pred = []\n",
    "for i in np.arange(0.1, 0.4, 0.05):\n",
    "    pred, y_test = NaiveBayes_test(i, excel)\n",
    "    p = metrics.accuracy_score(y_test, pred)\n",
    "    y_pred.append(p)\n",
    "    x_p.append(i)\n",
    "plt.plot(x_p, y_pred)\n",
    "#when splitting poiny is around 8:2, best performance"
   ]
  },
  {
   "cell_type": "markdown",
   "metadata": {},
   "source": [
    "### ***Accuracy***"
   ]
  },
  {
   "cell_type": "code",
   "execution_count": 10,
   "metadata": {},
   "outputs": [
    {
     "name": "stdout",
     "output_type": "stream",
     "text": [
      "Accuracy: 0.8685258964143426\n",
      "[[127   0   6]\n",
      " [  8   1  11]\n",
      " [  6   2  90]]\n",
      "Precision:  0.8685258964143426\n",
      "Recall:  0.8685258964143426\n",
      "F1-Score:  0.8685258964143426\n"
     ]
    }
   ],
   "source": [
    "y_pred, y_test = NaiveBayes_test(0.2, excel)\n",
    "print(\"Accuracy:\", metrics.accuracy_score(y_test, y_pred))\n",
    "scores1 = metrics.precision_recall_fscore_support(y_test, y_pred, average='micro')\n",
    "print(confusion_matrix(y_test,y_pred))\n",
    "print(\"Precision: \", scores1[0])\n",
    "print(\"Recall: \" , scores1[1])\n",
    "print(\"F1-Score: \" ,scores1[2])"
   ]
  },
  {
   "cell_type": "code",
   "execution_count": 11,
   "metadata": {},
   "outputs": [
    {
     "name": "stdout",
     "output_type": "stream",
     "text": [
      "Accuracy: 0.8685258964143426\n",
      "[[127   0   6]\n",
      " [  8   1  11]\n",
      " [  6   2  90]]\n",
      "Precision:  0.6917213495061975\n",
      "Recall:  0.6410848549946294\n",
      "F1-Score:  0.6306708671656694\n"
     ]
    }
   ],
   "source": [
    "y_pred, y_test = NaiveBayes_test(0.2, excel)\n",
    "print(\"Accuracy:\", metrics.accuracy_score(y_test, y_pred))\n",
    "scores1 = metrics.precision_recall_fscore_support(y_test, y_pred, average='macro')\n",
    "print(confusion_matrix(y_test,y_pred))\n",
    "print(\"Precision: \", scores1[0])\n",
    "print(\"Recall: \" , scores1[1])\n",
    "print(\"F1-Score: \" ,scores1[2])"
   ]
  }
 ],
 "metadata": {
  "kernelspec": {
   "display_name": "Python 3",
   "language": "python",
   "name": "python3"
  },
  "language_info": {
   "codemirror_mode": {
    "name": "ipython",
    "version": 3
   },
   "file_extension": ".py",
   "mimetype": "text/x-python",
   "name": "python",
   "nbconvert_exporter": "python",
   "pygments_lexer": "ipython3",
   "version": "3.7.6"
  }
 },
 "nbformat": 4,
 "nbformat_minor": 4
}
