{
 "cells": [
  {
   "cell_type": "markdown",
   "metadata": {},
   "source": [
    "**SVM model**"
   ]
  },
  {
   "cell_type": "code",
   "execution_count": 10,
   "metadata": {},
   "outputs": [],
   "source": [
    "import pandas as pd\n",
    "import numpy as np\n",
    "from sklearn.svm import SVC # Import Decision Tree Classifier\n",
    "from sklearn.model_selection import train_test_split # Import train_test_split function\n",
    "from sklearn import metrics #Import scikit-learn metrics module for accuracy calculation\n",
    "from sklearn.metrics import confusion_matrix\n",
    "from matplotlib import pyplot as plt\n",
    "excel = \"Dataset.xlsx\""
   ]
  },
  {
   "cell_type": "markdown",
   "metadata": {},
   "source": [
    "# *Test SVM model here!!*"
   ]
  },
  {
   "cell_type": "code",
   "execution_count": 11,
   "metadata": {},
   "outputs": [],
   "source": [
    "def importdata(excel):\n",
    "    #import attribute\n",
    "    data = pd.read_excel(excel, index_col=None, header=1)\n",
    "    x = data.iloc[:, 0:9]\n",
    "    x = np.array(x)\n",
    "    #import class\n",
    "    y = data.iloc[:, 9]\n",
    "    y = np.array(y)\n",
    "    return x, y\n",
    "\n",
    "def importtest(excel):\n",
    "    testset = pd.read_excel(excel, sheet_name=1, header=1, index_col=None)\n",
    "    test = testset.iloc[:, 0:9]\n",
    "    test = np.array(test)\n",
    "    return test\n",
    "\n",
    "def SVMmodel(excel, sp):\n",
    "    x, y = importdata(excel)\n",
    "    x_train, x_test, y_train, y_test = train_test_split(x, y, test_size=sp, random_state=2)\n",
    "    model = SVC(kernel='poly', degree=7) \n",
    "    model = model.fit(x_train, y_train)\n",
    "    y_pred = model.predict(x_test)\n",
    "    return y_pred, y_test\n",
    "\n",
    "def SVMmodel_test(excel, sp):\n",
    "    x, y = importdata(excel)\n",
    "    test = importtest(excel)\n",
    "    x_train, x_test, y_train, y_test = train_test_split(x, y, test_size=sp, random_state=2)\n",
    "    model = SVC(kernel='poly', degree=7) \n",
    "    model = model.fit(x_train, y_train)\n",
    "    y_pred = model.predict(test)\n",
    "    return y_pred"
   ]
  },
  {
   "cell_type": "markdown",
   "metadata": {},
   "source": [
    "#### Train model here!"
   ]
  },
  {
   "cell_type": "code",
   "execution_count": 12,
   "metadata": {},
   "outputs": [
    {
     "data": {
      "text/plain": [
       "0.9163346613545816"
      ]
     },
     "execution_count": 12,
     "metadata": {},
     "output_type": "execute_result"
    }
   ],
   "source": [
    "y_pred, y_test = SVMmodel(excel, 0.2)\n",
    "metrics.accuracy_score(y_test, y_pred)"
   ]
  },
  {
   "cell_type": "markdown",
   "metadata": {},
   "source": [
    "#### Use model here!"
   ]
  },
  {
   "cell_type": "code",
   "execution_count": 13,
   "metadata": {},
   "outputs": [
    {
     "data": {
      "text/plain": [
       "100"
      ]
     },
     "execution_count": 13,
     "metadata": {},
     "output_type": "execute_result"
    }
   ],
   "source": [
    "pred = SVMmodel_test(excel, 0.2)\n",
    "len(pred)"
   ]
  },
  {
   "cell_type": "markdown",
   "metadata": {},
   "source": [
    "# *Interpretation (Do NOT RUN) !!*"
   ]
  },
  {
   "cell_type": "markdown",
   "metadata": {},
   "source": [
    "### Import training dataset"
   ]
  },
  {
   "cell_type": "code",
   "execution_count": 7,
   "metadata": {},
   "outputs": [],
   "source": [
    "def importdata(excel):\n",
    "    #import attribute\n",
    "    data = pd.read_excel(excel, index_col=None, header=1)\n",
    "    x = data.iloc[:, 0:9]\n",
    "    x = np.array(x)\n",
    "    #import class\n",
    "    y = data.iloc[:, 9]\n",
    "    y = np.array(y)\n",
    "    return x, y"
   ]
  },
  {
   "cell_type": "markdown",
   "metadata": {},
   "source": [
    "### Import testing dataset"
   ]
  },
  {
   "cell_type": "code",
   "execution_count": 6,
   "metadata": {},
   "outputs": [],
   "source": [
    "def importtest(excel):\n",
    "    testset = pd.read_excel(excel, sheet_name=1, header=1, index_col=None)\n",
    "    test = testset.iloc[:, 0:9]\n",
    "    test = np.array(test)\n",
    "    return test"
   ]
  },
  {
   "cell_type": "markdown",
   "metadata": {},
   "source": [
    "### Dividing dataset"
   ]
  },
  {
   "cell_type": "code",
   "execution_count": 20,
   "metadata": {},
   "outputs": [],
   "source": [
    "x_train, x_test, y_train, y_test = train_test_split(x, y, test_size=0.2, random_state=2)"
   ]
  },
  {
   "cell_type": "markdown",
   "metadata": {},
   "source": [
    "### Creating a SVM model"
   ]
  },
  {
   "cell_type": "code",
   "execution_count": 46,
   "metadata": {},
   "outputs": [],
   "source": [
    "# Create Decision Tree classifer object\n",
    "model = SVC(kernel='poly', degree=7) \n",
    "\n",
    "# Train Decision Tree Classifer\n",
    "model = model.fit(x_train, y_train)\n",
    "\n",
    "#Predict the response for test dataset\n",
    "y_pred = model.predict(x_test)"
   ]
  },
  {
   "cell_type": "markdown",
   "metadata": {},
   "source": [
    "### ***Experiment Result***"
   ]
  },
  {
   "cell_type": "markdown",
   "metadata": {},
   "source": [
    "**choose the optimal splitting cut**"
   ]
  },
  {
   "cell_type": "code",
   "execution_count": 49,
   "metadata": {},
   "outputs": [],
   "source": [
    "def SVMmodel(excel, sp):\n",
    "    x, y = importdata(excel)\n",
    "    x_train, x_test, y_train, y_test = train_test_split(x, y, test_size=sp, random_state=2)\n",
    "    model = SVC(kernel='poly', degree=7) \n",
    "    model = model.fit(x_train, y_train)\n",
    "    y_pred = model.predict(x_test)\n",
    "    return y_pred, y_test"
   ]
  },
  {
   "cell_type": "code",
   "execution_count": 50,
   "metadata": {
    "scrolled": false
   },
   "outputs": [
    {
     "data": {
      "text/html": [
       "<div>\n",
       "<style scoped>\n",
       "    .dataframe tbody tr th:only-of-type {\n",
       "        vertical-align: middle;\n",
       "    }\n",
       "\n",
       "    .dataframe tbody tr th {\n",
       "        vertical-align: top;\n",
       "    }\n",
       "\n",
       "    .dataframe thead th {\n",
       "        text-align: right;\n",
       "    }\n",
       "</style>\n",
       "<table border=\"1\" class=\"dataframe\">\n",
       "  <thead>\n",
       "    <tr style=\"text-align: right;\">\n",
       "      <th></th>\n",
       "      <th>splitting</th>\n",
       "      <th>accuracy</th>\n",
       "    </tr>\n",
       "  </thead>\n",
       "  <tbody>\n",
       "    <tr>\n",
       "      <th>0</th>\n",
       "      <td>0.10</td>\n",
       "      <td>0.936508</td>\n",
       "    </tr>\n",
       "    <tr>\n",
       "      <th>1</th>\n",
       "      <td>0.15</td>\n",
       "      <td>0.914894</td>\n",
       "    </tr>\n",
       "    <tr>\n",
       "      <th>2</th>\n",
       "      <td>0.20</td>\n",
       "      <td>0.916335</td>\n",
       "    </tr>\n",
       "    <tr>\n",
       "      <th>3</th>\n",
       "      <td>0.25</td>\n",
       "      <td>0.891720</td>\n",
       "    </tr>\n",
       "    <tr>\n",
       "      <th>4</th>\n",
       "      <td>0.30</td>\n",
       "      <td>0.882979</td>\n",
       "    </tr>\n",
       "    <tr>\n",
       "      <th>5</th>\n",
       "      <td>0.35</td>\n",
       "      <td>0.876993</td>\n",
       "    </tr>\n",
       "    <tr>\n",
       "      <th>6</th>\n",
       "      <td>0.40</td>\n",
       "      <td>0.864542</td>\n",
       "    </tr>\n",
       "  </tbody>\n",
       "</table>\n",
       "</div>"
      ],
      "text/plain": [
       "   splitting  accuracy\n",
       "0       0.10  0.936508\n",
       "1       0.15  0.914894\n",
       "2       0.20  0.916335\n",
       "3       0.25  0.891720\n",
       "4       0.30  0.882979\n",
       "5       0.35  0.876993\n",
       "6       0.40  0.864542"
      ]
     },
     "execution_count": 50,
     "metadata": {},
     "output_type": "execute_result"
    },
    {
     "data": {
      "image/png": "[encoded data removed]",
      "text/plain": [
       "<Figure size 432x288 with 1 Axes>"
      ]
     },
     "metadata": {
      "needs_background": "light"
     },
     "output_type": "display_data"
    }
   ],
   "source": [
    "accu = []\n",
    "horz = []\n",
    "for sp in np.arange(0.1, 0.4, 0.05):\n",
    "    y_pred, y_test = SVMmodel(excel, sp)\n",
    "    ac = metrics.accuracy_score(y_test, y_pred)\n",
    "    accu.append(ac)\n",
    "    horz.append(sp)\n",
    "plt.plot(horz, accu)  \n",
    "data = {'splitting':horz, 'accuracy':accu}\n",
    "pd.DataFrame(data, index=None)"
   ]
  },
  {
   "cell_type": "markdown",
   "metadata": {},
   "source": [
    "### ***Accuracy***"
   ]
  },
  {
   "cell_type": "code",
   "execution_count": 58,
   "metadata": {},
   "outputs": [
    {
     "name": "stdout",
     "output_type": "stream",
     "text": [
      "Accuracy: 0.9163346613545816\n",
      "[[126   1   6]\n",
      " [  0  12   8]\n",
      " [  5   1  92]]\n",
      "Precision:  0.9163346613545816\n",
      "Recall:  0.9163346613545816\n",
      "F1-Score:  0.9163346613545816\n"
     ]
    }
   ],
   "source": [
    "y_pred, y_test = SVMmodel(excel, 0.2)\n",
    "print(\"Accuracy:\", metrics.accuracy_score(y_test, y_pred))\n",
    "scores1 = metrics.precision_recall_fscore_support(y_test, y_pred, average='micro')\n",
    "print(confusion_matrix(y_test,y_pred))\n",
    "print(\"Precision: \", scores1[0])\n",
    "print(\"Recall: \" , scores1[1])\n",
    "print(\"F1-Score: \" ,scores1[2])"
   ]
  },
  {
   "cell_type": "code",
   "execution_count": 59,
   "metadata": {},
   "outputs": [
    {
     "name": "stdout",
     "output_type": "stream",
     "text": [
      "Accuracy: 0.9163346613545816\n",
      "[[126   1   6]\n",
      " [  0  12   8]\n",
      " [  5   1  92]]\n",
      "Precision:  0.8956331488378154\n",
      "Recall:  0.8287146437522378\n",
      "F1-Score:  0.8541295306001189\n"
     ]
    }
   ],
   "source": [
    "y_pred, y_test = SVMmodel(excel, 0.2)\n",
    "print(\"Accuracy:\", metrics.accuracy_score(y_test, y_pred))\n",
    "scores1 = metrics.precision_recall_fscore_support(y_test, y_pred, average='macro')\n",
    "print(confusion_matrix(y_test,y_pred))\n",
    "print(\"Precision: \", scores1[0])\n",
    "print(\"Recall: \" , scores1[1])\n",
    "print(\"F1-Score: \" ,scores1[2])"
   ]
  }
 ],
 "metadata": {
  "kernelspec": {
   "display_name": "Python 3",
   "language": "python",
   "name": "python3"
  },
  "language_info": {
   "codemirror_mode": {
    "name": "ipython",
    "version": 3
   },
   "file_extension": ".py",
   "mimetype": "text/x-python",
   "name": "python",
   "nbconvert_exporter": "python",
   "pygments_lexer": "ipython3",
   "version": "3.7.6"
  }
 },
 "nbformat": 4,
 "nbformat_minor": 4
}
